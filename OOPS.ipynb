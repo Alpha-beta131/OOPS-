{
  "nbformat": 4,
  "nbformat_minor": 0,
  "metadata": {
    "colab": {
      "provenance": []
    },
    "kernelspec": {
      "name": "python3",
      "display_name": "Python 3"
    },
    "language_info": {
      "name": "python"
    }
  },
  "cells": [
    {
      "cell_type": "markdown",
      "source": [
        "**OOPS** ASSIGNMENT"
      ],
      "metadata": {
        "id": "nw__Th2mIszD"
      }
    },
    {
      "cell_type": "markdown",
      "source": [
        "1)  What is Object-Oriented Programming (OOP)?\n",
        "ANS-\n",
        "Object-Oriented Programming (OOP) is a programming paradigm that organizes software design around objects, rather than functions and logic. An object can be thought of as a real-world entity or a concept that has attributes (data) and behaviors (functions or methods).\n"
      ],
      "metadata": {
        "id": "K8oKshl7I43k"
      }
    },
    {
      "cell_type": "markdown",
      "source": [
        "2) What is a class in OOPS?\n",
        "ANS- In Object-Oriented Programming (OOP), a class is a blueprint or template for creating objects. It defines the attributes (also called fields or properties) and methods (functions) that the objects created from the class will have.\n"
      ],
      "metadata": {
        "id": "JWHxRGYkJ7KH"
      }
    },
    {
      "cell_type": "markdown",
      "source": [
        "3) What is an object in OOPS?\n",
        "ANS- In Object-Oriented Programming (OOP), an object is an instance of a class. It is a self-contained unit that contains both data (attributes or properties) and functions (methods) that operate on the data."
      ],
      "metadata": {
        "id": "jFad6RG-KX-8"
      }
    },
    {
      "cell_type": "markdown",
      "source": [
        "4) What is the difference between abstraction and encapsulation?\n",
        "ANS- Abstraction and encapsulation are two important concepts in Object-Oriented Programming, and while they often work together, they serve different purposes. Abstraction is the process of hiding complex implementation details and showing only the essential features of an object. It helps in reducing complexity by allowing the user to focus on what an object does, rather than how it does it. For example, when using a coffee machine, you simply press a button to get coffee without knowing how the machine works internally. In programming, abstraction is typically achieved through abstract classes, interfaces, or simply exposing simplified method interfaces to users.\n",
        "\n",
        "On the other hand, encapsulation is the technique of bundling data (variables) and methods (functions) that operate on that data into a single unit, usually a class, and restricting direct access to some of the object's components. This helps in protecting the internal state of the object and ensures that the data is accessed or modified only in intended ways. It is typically implemented using access modifiers like private, public, and protected. For example, in a class, private variables cannot be accessed directly from outside the class, which protects them from accidental or unauthorized changes. In short, abstraction focuses on hiding the complexity, while encapsulation focuses on hiding the internal data and ensuring controlled access.\n"
      ],
      "metadata": {
        "id": "bdODQHFnKq3t"
      }
    },
    {
      "cell_type": "markdown",
      "source": [
        "5) What are dunder methods in Python?\n",
        "ANS-Dunder methods in Python (short for “double underscore” methods) are special methods that have double underscores before and after their names — like __init__, __str__, __len__, and so on. They are also known as magic methods or special methods, and they allow you to define how objects of your class behave with built-in Python functions and operators.\n",
        "\n",
        ""
      ],
      "metadata": {
        "id": "3wp_Vb2JLj28"
      }
    },
    {
      "cell_type": "markdown",
      "source": [
        "6) Explain the concept of inheritance in OOPS?\n",
        "ANS- Inheritance is a fundamental concept in Object-Oriented Programming (OOP) that allows one class (called the child or subclass) to inherit properties and behaviors (methods and attributes) from another class (called the parent or superclass). It promotes code reusability, modularity, and a clear hierarchical structure.\n",
        "\n",
        "With inheritance, you can create a new class that uses the code from an existing class, without rewriting it. The child class can also have its own additional properties and methods, or override the inherited ones to change or extend their behavior.\n",
        "\n"
      ],
      "metadata": {
        "id": "KI8bLGQyL1hR"
      }
    },
    {
      "cell_type": "markdown",
      "source": [
        "7) What is polymorphism in OOPS?\n",
        "ANS- Polymorphism is a core concept in Object-Oriented Programming (OOP) that means “many forms.” It allows objects of different classes to be treated as objects of a common superclass, and enables the same method name to behave differently depending on the object that calls it.\n",
        "\n",
        "\n"
      ],
      "metadata": {
        "id": "eJfT6v9cMGid"
      }
    },
    {
      "cell_type": "markdown",
      "source": [
        "8) How is encapsulation achieved in Python?\n",
        "ANS- Encapsulation in Python is achieved by restricting direct access to class attributes and methods and by bundling data and behavior inside a class. This ensures that the internal representation of an object is hidden from the outside, and only necessary information is exposed — promoting security, data hiding, and maintainability.\n",
        "🔐 How Encapsulation Is Achieved in Python:\n",
        "1) Using Access Modifiers:\n",
        "\n",
        "- Public (name): Accessible from anywhere.\n",
        "\n",
        "- Protected (_name): Intended to be accessed only within the class and its subclasses (by convention, not enforced).\n",
        "\n",
        "- Private (__name): Name mangling makes it hard to access from outside the class directly.\n",
        "\n",
        "2) Getter and Setter Methods:\n",
        "\n",
        "- Used to read and modify private attributes indirectly.\n",
        "\n",
        "- This gives you control over how data is accessed or changed."
      ],
      "metadata": {
        "id": "o6fXg57FMacG"
      }
    },
    {
      "cell_type": "markdown",
      "source": [
        "9) What is a constructor in Python?\n",
        "ANS- In Python, a constructor is a special method used to initialize a newly created object. It is automatically called when an object is created from a class. The constructor method in Python is always named __init__()."
      ],
      "metadata": {
        "id": "NXimPvUWNORf"
      }
    },
    {
      "cell_type": "markdown",
      "source": [
        "10) What are class and static methods in Python?\n",
        "ANS- In Python, class methods and static methods are two types of methods that belong to a class rather than an instance of the class, but they serve different purposes and have different behaviors.\n"
      ],
      "metadata": {
        "id": "jUTyigdsNzGL"
      }
    },
    {
      "cell_type": "markdown",
      "source": [
        "11) What is method overloading in Python?\n",
        "ANS- Method overloading is a concept where multiple methods in the same class share the same name but have different parameters (different number or types of arguments). This allows a method to behave differently based on how it’s called."
      ],
      "metadata": {
        "id": "-DSUycsPOkSB"
      }
    },
    {
      "cell_type": "markdown",
      "source": [
        "12)  What is method overriding in OOPS?\n",
        "ANS- Method overriding is a core concept in Object-Oriented Programming (OOP) that allows a subclass (child class) to provide a specific implementation of a method that is already defined in its superclass (parent class). This enables a child class to modify or extend the behavior of inherited methods.\n",
        "\n"
      ],
      "metadata": {
        "id": "SFt0E_sdweLe"
      }
    },
    {
      "cell_type": "markdown",
      "source": [
        "13) What is a property decorator in Python?\n",
        "ANS- In Python, the @property decorator is used to define a method that acts like an attribute — meaning you can access it without calling it like a function, but it still runs code behind the scenes.\n",
        "\n",
        "It is commonly used to control access to instance variables, allowing you to add logic when getting, setting, or deleting attributes, while keeping a clean and simple interface."
      ],
      "metadata": {
        "id": "56QE2FOHwu2Y"
      }
    },
    {
      "cell_type": "markdown",
      "source": [
        "14)  Why is polymorphism important in OOPS?\n",
        "ANS- Polymorphism is important in Object-Oriented Programming (OOP) because it allows objects of different classes to be treated as if they were of the same type, typically through a shared interface or superclass. This enables code flexibility, reusability, and scalability, making programs easier to maintain and extend.\n",
        "\n"
      ],
      "metadata": {
        "id": "jJDUGWzww9W_"
      }
    },
    {
      "cell_type": "markdown",
      "source": [
        "15) What is an abstract class in Python?\n",
        "ANS-An abstract class in Python is a class that cannot be instantiated directly and is designed to be a base class for other classes. It can define abstract methods that must be implemented by its subclasses. Abstract classes are used to define a common interface or blueprint for related classes.\n",
        "\n",
        ""
      ],
      "metadata": {
        "id": "f2DnJ1lCxNyo"
      }
    },
    {
      "cell_type": "markdown",
      "source": [
        "16) What are the advantages of OOPS?\n",
        "ANS- Object-Oriented Programming (OOP) offers several key advantages that make it a popular programming paradigm for designing scalable and maintainable software systems.\n",
        "\n",
        "✅ Advantages of OOP:\n",
        "1. 🔁 Reusability\n",
        "- Classes and objects can be reused across programs.\n",
        "\n",
        "- Inheritance allows new classes to be built from existing ones, reducing code duplication.\n",
        "\n",
        "2. 🧱 Modularity\n",
        "- Programs are divided into self-contained objects, making them easier to manage, test, and debug.\n",
        "\n",
        "3. 🔒 Encapsulation\n",
        "- Bundles data and methods into a single unit (class) and restricts access to internal details.\n",
        "\n",
        "- Improves security and helps in maintaining control over the state of an object.\n",
        "\n",
        "4. 🧠 Abstraction\n",
        "- Hides complex implementation details and shows only the necessary features.\n",
        "\n",
        "- Makes the code easier to understand and use.\n",
        "\n",
        "5. 🔄 Polymorphism\n",
        "- The same interface (method name) can behave differently across different classes.\n",
        "\n",
        "- Promotes flexibility and interchangeability of components.\n",
        "\n",
        "6. 🌲 Inheritance\n",
        "- Allows new classes to inherit the properties and behaviors of existing classes.\n",
        "\n",
        "- Promotes code reuse and logical class hierarchy.\n",
        "\n",
        "🛠️ Maintainability and Scalability\n",
        "- OOP code is easier to maintain, modify, and extend due to its organized structure.\n",
        "\n",
        "- Ideal for large and complex software projects.\n",
        "\n",
        "🤝 Improved Collaboration\n",
        "In team environments, developers can work on different classes or modules independently.\n",
        "\n"
      ],
      "metadata": {
        "id": "wPRgH5QExZsZ"
      }
    },
    {
      "cell_type": "markdown",
      "source": [
        "17) What is the difference between a class variable and an instance variable?\n",
        "ANS- In Python, the key difference between a class variable and an instance variable lies in how they are shared and used within a class. A class variable is shared among all instances of a class and is defined outside any methods, directly within the class body. It holds the same value for every object unless explicitly changed at the class level. In contrast, an instance variable is specific to each individual object and is usually defined inside the __init__() method using self. This means each object can have different values for its instance variables, representing its unique state. For example, if you have a Dog class with a class variable species = \"Canine\", all dog objects will share this species value. But if you have instance variables like name and age, each dog object (like dog1 and dog2) can have different names and ages. In summary, class variables are useful for storing shared data across all instances, while instance variables are used to store object-specific data.\n",
        "\n",
        "\n",
        "\n",
        "\n",
        "Ask ChatGPT\n"
      ],
      "metadata": {
        "id": "apu3zboi4RK_"
      }
    },
    {
      "cell_type": "markdown",
      "source": [
        "18)  What is multiple inheritance in Python?\n",
        "ANS- Multiple inheritance in Python is a feature that allows a class to inherit from more than one parent class. This means the child class gains the properties and behaviors (methods and attributes) of all the parent classes, making it more powerful and flexible.\n",
        "\n"
      ],
      "metadata": {
        "id": "6uIqmnml4-ND"
      }
    },
    {
      "cell_type": "markdown",
      "source": [
        "19) Explain the purpose of ‘’__str__’ and ‘__repr__’ ‘ methods in Python?\n",
        "ANS- In Python, the __str__ and __repr__ methods are special (dunder) methods used to define how an object is represented as a string. They play a key role in making your custom objects more readable and easier to debug by controlling how they appear when printed or inspected.\n",
        "\n",
        "🔍 __str__ Method:\n",
        "- The __str__ method is used to define the “informal” or user-friendly string representation of an object. It is called when you use the print() function or str() on an object. It’s intended to return a readable and descriptive string meant for end users.\n",
        "\n",
        "🧪 __repr__ Method:\n",
        "- The __repr__ method defines the “official” or developer-friendly string representation of an object. It is used by built-in functions like repr() and in the Python interpreter or debugger. Its goal is to return a string that is unambiguous and can ideally be used to recreate the object.\n",
        "\n",
        "\n",
        "\n",
        "\n"
      ],
      "metadata": {
        "id": "5QPajDdu5TGp"
      }
    },
    {
      "cell_type": "markdown",
      "source": [
        "20)  What is the significance of the ‘super()’ function in Python?\n",
        "ANS- In Python, the super() function is used to call methods from a parent (or superclass) inside a child (or subclass). It is especially useful in inheritance, where you want to extend or customize the behavior of a parent class method without rewriting it entirely.\n",
        "🎯 Purpose and Significance of super():\n",
        "1. ✅ Access Parent Class Methods\n",
        "\n",
        "- super() allows you to call methods (like __init__) from a parent class, ensuring that the parent class is properly initialized.\n",
        "\n",
        "2. ✅ Promotes Code Reuse\n",
        "\n",
        "- Instead of duplicating code from the parent class, you can reuse it and add additional functionality in the child class.\n",
        "\n",
        "3. ✅ Supports Multiple Inheritance\n",
        "\n",
        "- Python's super() uses the Method Resolution Order (MRO) to determine which method to call next, making it effective even in complex inheritance hierarchies.\n",
        "\n",
        "\n",
        "\n"
      ],
      "metadata": {
        "id": "VCqQYTTp5_ZW"
      }
    },
    {
      "cell_type": "markdown",
      "source": [
        "21) What is the significance of the __del__ method in Python?\n",
        "ANS- The __del__ method in Python is a special method called a destructor. It is automatically invoked when an object is about to be destroyed or garbage collected, which usually happens when there are no more references to that object. The primary purpose of __del__ is to allow the object to clean up resources (like closing files, releasing network connections, or freeing up memory) before it is removed from memory.\n",
        "\n"
      ],
      "metadata": {
        "id": "M7MfWNiz6iQJ"
      }
    },
    {
      "cell_type": "markdown",
      "source": [
        "22) What is the difference between @staticmethod and @classmethod in Python?\n",
        "ANS- The difference between @staticmethod and @classmethod in Python lies in how they relate to the class and its instances:\n",
        "\n",
        "A @staticmethod defines a method that does not receive any automatic first argument (neither the instance self nor the class cls). It behaves like a regular function but lives inside the class’s namespace. It cannot access or modify the class or instance state. You call it using the class name or an instance.\n",
        "\n",
        "A @classmethod receives the class itself as the first argument, conventionally named cls. This allows the method to access or modify class state, call other class methods, or create instances. It is often used for factory methods or methods that affect the class as a whole.\n",
        "\n"
      ],
      "metadata": {
        "id": "nuxJdODe7Jbb"
      }
    },
    {
      "cell_type": "markdown",
      "source": [
        "23)  How does polymorphism work in Python with inheritance?\n",
        "ANS- Polymorphism in Python with inheritance allows objects of different subclasses to be treated as instances of a common superclass while behaving differently based on their actual subclass implementations. When a method is called on a superclass reference, Python dynamically determines which subclass method to execute at runtime — this is known as runtime polymorphism or method overriding. Thanks to inheritance, subclasses can override methods defined in the parent class to provide their own specific behavior, and when you invoke those methods on subclass objects through a superclass reference, the appropriate overridden method runs. This mechanism enables writing flexible and reusable code that can work with objects of different classes through a common interface."
      ],
      "metadata": {
        "id": "KW2NhObA7d3C"
      }
    },
    {
      "cell_type": "markdown",
      "source": [
        "24) What is method chaining in Python OOPS?\n",
        "ANS- Method chaining in Python OOP is a technique where multiple methods are called on the same object in a single line, one after another. Each method returns the object itself (self), allowing the next method to be called directly on that same object. This leads to more concise and readable code, especially when you want to perform a series of operations on an object."
      ],
      "metadata": {
        "id": "BT4ecmLe8GvV"
      }
    },
    {
      "cell_type": "markdown",
      "source": [
        "25) What is the purpose of the __call__ method in Python?\n",
        "ANS-The __call__ method in Python allows an instance of a class to be called like a regular function. When you define the __call__ method inside a class, you can use the object itself followed by parentheses (e.g., obj()) to execute that method. This makes objects behave like functions, which can be useful for creating callable objects, implementing function-like behavior, or maintaining state while being called multiple times."
      ],
      "metadata": {
        "id": "DTP2MBtK8Qw5"
      }
    },
    {
      "cell_type": "markdown",
      "source": [
        "PRACTICAL QUESTION"
      ],
      "metadata": {
        "id": "bJIMruzz8moi"
      }
    },
    {
      "cell_type": "markdown",
      "source": [
        "1)  Create a parent class Animal with a method speak() that prints a generic message. Create a child class Dog\n",
        "that overrides the speak() method to print \"Bark!\"."
      ],
      "metadata": {
        "id": "KzNHc7aq-GMZ"
      }
    },
    {
      "cell_type": "code",
      "source": [
        "class Animal:\n",
        "    def speak(self):\n",
        "        print(\"This animal makes a sound\")\n",
        "\n",
        "class Dog(Animal):\n",
        "    def speak(self):\n",
        "        print(\"Bark!\")\n",
        "\n",
        "# Example usage:\n",
        "animal = Animal()\n",
        "animal.speak()  # Output: This animal makes a sound\n",
        "\n",
        "dog = Dog()\n",
        "dog.speak()     # Output: Bark!\n"
      ],
      "metadata": {
        "colab": {
          "base_uri": "https://localhost:8080/"
        },
        "id": "PGj2sJrn-KKi",
        "outputId": "177bbcd2-3eac-45f9-9e4c-94c3e15280e5"
      },
      "execution_count": 3,
      "outputs": [
        {
          "output_type": "stream",
          "name": "stdout",
          "text": [
            "This animal makes a sound\n",
            "Bark!\n"
          ]
        }
      ]
    },
    {
      "cell_type": "markdown",
      "source": [
        "2)  Write a program to create an abstract class Shape with a method area(). Derive classes Circle and Rectangle\n",
        "from it and implement the area() method in both."
      ],
      "metadata": {
        "id": "rkr_ilch-Rsg"
      }
    },
    {
      "cell_type": "code",
      "source": [
        "from abc import ABC, abstractmethod\n",
        "import math\n",
        "\n",
        "# Abstract base class\n",
        "class Shape(ABC):\n",
        "    @abstractmethod\n",
        "    def area(self):\n",
        "        pass\n",
        "\n",
        "# Derived class: Circle\n",
        "class Circle(Shape):\n",
        "    def __init__(self, radius):\n",
        "        self.radius = radius\n",
        "\n",
        "    def area(self):\n",
        "        return math.pi * self.radius ** 2\n",
        "\n",
        "# Derived class: Rectangle\n",
        "class Rectangle(Shape):\n",
        "    def __init__(self, length, width):\n",
        "        self.length = length\n",
        "        self.width = width\n",
        "\n",
        "    def area(self):\n",
        "        return self.length * self.width\n",
        "\n",
        "# Example usage\n",
        "circle = Circle(5)\n",
        "rectangle = Rectangle(4, 6)\n",
        "\n",
        "print(f\"Circle area: {circle.area():.2f}\")\n",
        "print(f\"Rectangle area: {rectangle.area()}\")\n"
      ],
      "metadata": {
        "colab": {
          "base_uri": "https://localhost:8080/"
        },
        "id": "Wvxu4HQV-dFF",
        "outputId": "65a44c3f-dfbb-4a03-ee1c-c84fa1c5cecd"
      },
      "execution_count": 4,
      "outputs": [
        {
          "output_type": "stream",
          "name": "stdout",
          "text": [
            "Circle area: 78.54\n",
            "Rectangle area: 24\n"
          ]
        }
      ]
    },
    {
      "cell_type": "markdown",
      "source": [
        "3) Implement a multi-level inheritance scenario where a class Vehicle has an attribute type. Derive a class Car\n",
        "and further derive a class ElectricCar that adds a battery attribute."
      ],
      "metadata": {
        "id": "DRQJqieQB7HE"
      }
    },
    {
      "cell_type": "code",
      "source": [
        "# Base class\n",
        "class Vehicle:\n",
        "    def __init__(self, vehicle_type):\n",
        "        self.vehicle_type = vehicle_type\n",
        "\n",
        "    def display_type(self):\n",
        "        print(f\"Vehicle Type: {self.vehicle_type}\")\n",
        "\n",
        "# Derived class from Vehicle\n",
        "class Car(Vehicle):\n",
        "    def __init__(self, vehicle_type, brand):\n",
        "        super().__init__(vehicle_type)\n",
        "        self.brand = brand\n",
        "\n",
        "    def display_info(self):\n",
        "        self.display_type()\n",
        "        print(f\"Brand: {self.brand}\")\n",
        "\n",
        "# Further derived class from Car\n",
        "class ElectricCar(Car):\n",
        "    def __init__(self, vehicle_type, brand, battery_capacity):\n",
        "        super().__init__(vehicle_type, brand)\n",
        "        self.battery_capacity = battery_capacity\n",
        "\n",
        "    def display_details(self):\n",
        "        self.display_info()\n",
        "        print(f\"Battery Capacity: {self.battery_capacity} kWh\")\n",
        "\n",
        "# Example usage\n",
        "ev = ElectricCar(\"Electric\", \"Tesla\", 75)\n",
        "ev.display_details()\n"
      ],
      "metadata": {
        "colab": {
          "base_uri": "https://localhost:8080/"
        },
        "id": "uM3yC0tAB-F0",
        "outputId": "c47a68f5-36b5-42ba-9dc6-22591fbc0770"
      },
      "execution_count": 5,
      "outputs": [
        {
          "output_type": "stream",
          "name": "stdout",
          "text": [
            "Vehicle Type: Electric\n",
            "Brand: Tesla\n",
            "Battery Capacity: 75 kWh\n"
          ]
        }
      ]
    },
    {
      "cell_type": "markdown",
      "source": [
        "4) Implement a multi-level inheritance scenario where a class Vehicle has an attribute type. Derive a class Car\n",
        "and further derive a class ElectricCar that adds a battery attribute."
      ],
      "metadata": {
        "id": "HD_Nijh-CNO4"
      }
    },
    {
      "cell_type": "code",
      "source": [
        "# Base class\n",
        "class Vehicle:\n",
        "    def __init__(self, vehicle_type):\n",
        "        self.vehicle_type = vehicle_type\n",
        "\n",
        "    def display_type(self):\n",
        "        print(f\"Vehicle Type: {self.vehicle_type}\")\n",
        "\n",
        "# Derived class from Vehicle\n",
        "class Car(Vehicle):\n",
        "    def __init__(self, vehicle_type, brand):\n",
        "        super().__init__(vehicle_type)  # Call Vehicle's constructor\n",
        "        self.brand = brand\n",
        "\n",
        "    def display_brand(self):\n",
        "        print(f\"Car Brand: {self.brand}\")\n",
        "\n",
        "# Further derived class from Car\n",
        "class ElectricCar(Car):\n",
        "    def __init__(self, vehicle_type, brand, battery_capacity):\n",
        "        super().__init__(vehicle_type, brand)  # Call Car's constructor\n",
        "        self.battery_capacity = battery_capacity\n",
        "\n",
        "    def display_battery(self):\n",
        "        print(f\"Battery Capacity: {self.battery_capacity} kWh\")\n",
        "\n",
        "    def display_all_info(self):\n",
        "        self.display_type()\n",
        "        self.display_brand()\n",
        "        self.display_battery()\n",
        "\n",
        "# Example usage\n",
        "e_car = ElectricCar(\"Electric\", \"Tesla\", 85)\n",
        "e_car.display_all_info()\n"
      ],
      "metadata": {
        "colab": {
          "base_uri": "https://localhost:8080/"
        },
        "id": "uVQckymMCSWg",
        "outputId": "ff8851ce-917b-43fd-f26c-e41af4569e94"
      },
      "execution_count": 6,
      "outputs": [
        {
          "output_type": "stream",
          "name": "stdout",
          "text": [
            "Vehicle Type: Electric\n",
            "Car Brand: Tesla\n",
            "Battery Capacity: 85 kWh\n"
          ]
        }
      ]
    },
    {
      "cell_type": "markdown",
      "source": [
        "5)  Write a program to demonstrate encapsulation by creating a class BankAccount with private attributes\n",
        "balance and methods to deposit, withdraw, and check balance."
      ],
      "metadata": {
        "id": "mkak0QZnCdt3"
      }
    },
    {
      "cell_type": "code",
      "source": [
        "class BankAccount:\n",
        "    def __init__(self, initial_balance=0):\n",
        "        self.__balance = initial_balance  # Private attribute\n",
        "\n",
        "    def deposit(self, amount):\n",
        "        if amount > 0:\n",
        "            self.__balance += amount\n",
        "            print(f\"Deposited: ${amount}\")\n",
        "        else:\n",
        "            print(\"Deposit amount must be positive.\")\n",
        "\n",
        "    def withdraw(self, amount):\n",
        "        if 0 < amount <= self.__balance:\n",
        "            self.__balance -= amount\n",
        "            print(f\"Withdrawn: ${amount}\")\n",
        "        else:\n",
        "            print(\"Insufficient balance or invalid amount.\")\n",
        "\n",
        "    def check_balance(self):\n",
        "        print(f\"Current Balance: ${self.__balance}\")\n",
        "\n",
        "# Example usage\n",
        "account = BankAccount(100)\n",
        "\n",
        "account.deposit(50)\n",
        "account.withdraw(30)\n",
        "account.check_balance()\n"
      ],
      "metadata": {
        "colab": {
          "base_uri": "https://localhost:8080/"
        },
        "id": "md8hFHQjClUl",
        "outputId": "3b85bf46-90d4-40da-f357-df34bfd24630"
      },
      "execution_count": 7,
      "outputs": [
        {
          "output_type": "stream",
          "name": "stdout",
          "text": [
            "Deposited: $50\n",
            "Withdrawn: $30\n",
            "Current Balance: $120\n"
          ]
        }
      ]
    },
    {
      "cell_type": "markdown",
      "source": [
        "6) Demonstrate runtime polymorphism using a method play() in a base class Instrument. Derive classes Guitar\n",
        "and Piano that implement their own version of play()."
      ],
      "metadata": {
        "id": "8AnYgBwnC4rS"
      }
    },
    {
      "cell_type": "code",
      "source": [
        "# Base class\n",
        "class Instrument:\n",
        "    def play(self):\n",
        "        print(\"Playing an instrument...\")\n",
        "\n",
        "# Derived class 1\n",
        "class Guitar(Instrument):\n",
        "    def play(self):\n",
        "        print(\"Strumming the guitar 🎸\")\n",
        "\n",
        "# Derived class 2\n",
        "class Piano(Instrument):\n",
        "    def play(self):\n",
        "        print(\"Playing the piano 🎹\")\n",
        "\n",
        "# Function demonstrating runtime polymorphism\n",
        "def perform(instrument: Instrument):\n",
        "    instrument.play()  # Calls the appropriate version of play()\n",
        "\n",
        "# Example usage\n",
        "instruments = [Guitar(), Piano()]\n",
        "\n",
        "for inst in instruments:\n",
        "    perform(inst)\n"
      ],
      "metadata": {
        "colab": {
          "base_uri": "https://localhost:8080/"
        },
        "id": "v69Pj3PLC-vt",
        "outputId": "33ca190d-f680-49fc-9227-e98a69b4d267"
      },
      "execution_count": 8,
      "outputs": [
        {
          "output_type": "stream",
          "name": "stdout",
          "text": [
            "Strumming the guitar 🎸\n",
            "Playing the piano 🎹\n"
          ]
        }
      ]
    },
    {
      "cell_type": "markdown",
      "source": [
        "7) Create a class MathOperations with a class method add_numbers() to add two numbers and a static\n",
        "method subtract_numbers() to subtract two numbers."
      ],
      "metadata": {
        "id": "Sv0j1-ETDJ6D"
      }
    },
    {
      "cell_type": "code",
      "source": [
        "class MathOperations:\n",
        "    @classmethod\n",
        "    def add_numbers(cls, a, b):\n",
        "        return a + b\n",
        "\n",
        "    @staticmethod\n",
        "    def subtract_numbers(a, b):\n",
        "        return a - b\n",
        "sum_result = MathOperations.add_numbers(10, 5)\n",
        "diff_result = MathOperations.subtract_numbers(10, 5)\n",
        "\n",
        "print(f\"Sum: {sum_result}\")\n",
        "print(f\"Difference: {diff_result}\")\n"
      ],
      "metadata": {
        "colab": {
          "base_uri": "https://localhost:8080/"
        },
        "id": "oCQmW3TlDWIz",
        "outputId": "66785a74-53f9-4016-8115-b1ccb311476d"
      },
      "execution_count": 9,
      "outputs": [
        {
          "output_type": "stream",
          "name": "stdout",
          "text": [
            "Sum: 15\n",
            "Difference: 5\n"
          ]
        }
      ]
    },
    {
      "cell_type": "markdown",
      "source": [
        "8) Implement a class Person with a class method to count the total number of persons created."
      ],
      "metadata": {
        "id": "xxP_tgAdDhbM"
      }
    },
    {
      "cell_type": "code",
      "source": [
        "class Person:\n",
        "    count = 0\n",
        "    def __init__(self, name):\n",
        "        self.name = name\n",
        "        Person.count += 1\n",
        "    @classmethod\n",
        "    def total_persons(cls):\n",
        "        return cls.count\n",
        "\n",
        "p1 = Person(\"Alice\")\n",
        "p2 = Person(\"Bob\")\n",
        "p3 = Person(\"Charlie\")\n",
        "\n",
        "print(f\"Total persons created: {Person.total_persons()}\")\n"
      ],
      "metadata": {
        "colab": {
          "base_uri": "https://localhost:8080/"
        },
        "id": "wmwMKWxWDoRg",
        "outputId": "4894cc34-fc03-45d6-ae8c-da3d49965858"
      },
      "execution_count": 10,
      "outputs": [
        {
          "output_type": "stream",
          "name": "stdout",
          "text": [
            "Total persons created: 3\n"
          ]
        }
      ]
    },
    {
      "cell_type": "markdown",
      "source": [
        "9. Write a class Fraction with attributes numerator and denominator. Override the str method to display the\n",
        "fraction as \"numerator/denominator\"."
      ],
      "metadata": {
        "id": "_ykwRQqUD2jU"
      }
    },
    {
      "cell_type": "code",
      "source": [
        "class Fraction:\n",
        "    def __init__(self, numerator, denominator):\n",
        "        self.numerator = numerator\n",
        "        self.denominator = denominator\n",
        "\n",
        "    def __str__(self):\n",
        "        return f\"{self.numerator}/{self.denominator}\"\n",
        "\n",
        "# Example usage\n",
        "f1 = Fraction(3, 4)\n",
        "f2 = Fraction(5, 8)\n",
        "\n",
        "print(f\"Fraction 1: {f1}\")\n",
        "print(f\"Fraction 2: {f2}\")\n"
      ],
      "metadata": {
        "colab": {
          "base_uri": "https://localhost:8080/"
        },
        "id": "S1w-dommD4Hg",
        "outputId": "3f4eb83b-5261-4f43-abc2-33cafe63496b"
      },
      "execution_count": 11,
      "outputs": [
        {
          "output_type": "stream",
          "name": "stdout",
          "text": [
            "Fraction 1: 3/4\n",
            "Fraction 2: 5/8\n"
          ]
        }
      ]
    },
    {
      "cell_type": "markdown",
      "source": [
        "10. Demonstrate operator overloading by creating a class Vector and overriding the add method to add two\n",
        "vectors."
      ],
      "metadata": {
        "id": "luh61_AvEHzA"
      }
    },
    {
      "cell_type": "code",
      "source": [
        "class Vector:\n",
        "    def __init__(self, x, y):\n",
        "        self.x = x\n",
        "        self.y = y\n",
        "\n",
        "    def __add__(self, other):\n",
        "        return Vector(self.x + other.x, self.y + other.y)\n",
        "\n",
        "    def __str__(self):\n",
        "        return f\"Vector({self.x}, {self.y})\"\n",
        "\n",
        "\n",
        "v1 = Vector(2, 3)\n",
        "v2 = Vector(4, 5)\n",
        "v3 = v1 + v2\n",
        "\n",
        "print(f\"v1: {v1}\")\n",
        "print(f\"v2: {v2}\")\n",
        "print(f\"v1 + v2 = {v3}\")\n"
      ],
      "metadata": {
        "colab": {
          "base_uri": "https://localhost:8080/"
        },
        "id": "fdunw3xqDyzZ",
        "outputId": "8c90f31a-e365-4855-f41a-0a0f429daabc"
      },
      "execution_count": 12,
      "outputs": [
        {
          "output_type": "stream",
          "name": "stdout",
          "text": [
            "v1: Vector(2, 3)\n",
            "v2: Vector(4, 5)\n",
            "v1 + v2 = Vector(6, 8)\n"
          ]
        }
      ]
    },
    {
      "cell_type": "markdown",
      "source": [
        "11. Create a class Person with attributes name and age. Add a method greet() that prints \"Hello, my name is\n",
        "{name} and I am {age} years old.\"\n",
        "\n",
        "\n"
      ],
      "metadata": {
        "id": "bO9MiCVnE5mZ"
      }
    },
    {
      "cell_type": "code",
      "source": [
        "class Person:\n",
        "    def __init__(self, name, age):\n",
        "        self.name = name\n",
        "        self.age = age\n",
        "\n",
        "    def greet(self):\n",
        "        print(f\"Hello, my name is {self.name} and I am {self.age} years old.\")\n",
        "\n",
        "p1 = Person(\"Alice\", 25)\n",
        "p2 = Person(\"Bob\", 30)\n",
        "\n",
        "p1.greet()\n",
        "p2.greet()\n"
      ],
      "metadata": {
        "colab": {
          "base_uri": "https://localhost:8080/"
        },
        "id": "8EX_f47SE6zl",
        "outputId": "816afccc-9e5c-4c1c-f49c-4ff2f68c868f"
      },
      "execution_count": 13,
      "outputs": [
        {
          "output_type": "stream",
          "name": "stdout",
          "text": [
            "Hello, my name is Alice and I am 25 years old.\n",
            "Hello, my name is Bob and I am 30 years old.\n"
          ]
        }
      ]
    },
    {
      "cell_type": "markdown",
      "source": [
        "12. Implement a class Student with attributes name and grades. Create a method average_grade() to compute\n",
        "the average of the grades."
      ],
      "metadata": {
        "id": "Bzgcb4FlFL29"
      }
    },
    {
      "cell_type": "code",
      "source": [
        "class Student:\n",
        "    def __init__(self, name, grades):\n",
        "        self.name = name\n",
        "        self.grades = grades\n",
        "\n",
        "    def average_grade(self):\n",
        "        if not self.grades:\n",
        "            return 0\n",
        "        return sum(self.grades) / len(self.grades)\n",
        "\n",
        "# Example usage\n",
        "student1 = Student(\"John\", [85, 90, 78, 92])\n",
        "student2 = Student(\"Emma\", [70, 88, 95])\n",
        "\n",
        "print(f\"{student1.name}'s average grade: {student1.average_grade():.2f}\")\n",
        "print(f\"{student2.name}'s average grade: {student2.average_grade():.2f}\")\n"
      ],
      "metadata": {
        "colab": {
          "base_uri": "https://localhost:8080/"
        },
        "id": "cP-Dht29FMaw",
        "outputId": "0f2f39f5-d38e-4685-f531-9ff10df2777e"
      },
      "execution_count": 14,
      "outputs": [
        {
          "output_type": "stream",
          "name": "stdout",
          "text": [
            "John's average grade: 86.25\n",
            "Emma's average grade: 84.33\n"
          ]
        }
      ]
    },
    {
      "cell_type": "markdown",
      "source": [
        "13. Create a class Rectangle with methods set_dimensions() to set the dimensions and area() to calculate the\n",
        "area."
      ],
      "metadata": {
        "id": "Z2muIXvSFgXj"
      }
    },
    {
      "cell_type": "code",
      "source": [
        "class Rectangle:\n",
        "    def __init__(self):\n",
        "        self.length = 0\n",
        "        self.width = 0\n",
        "\n",
        "    def set_dimensions(self, length, width):\n",
        "        self.length = length\n",
        "        self.width = width\n",
        "\n",
        "    def area(self):\n",
        "        return self.length * self.width\n",
        "\n",
        "# Example usage\n",
        "rect = Rectangle()\n",
        "rect.set_dimensions(5, 3)\n",
        "print(f\"Area of the rectangle: {rect.area()}\")\n"
      ],
      "metadata": {
        "colab": {
          "base_uri": "https://localhost:8080/"
        },
        "id": "FM6aQ_r-FhOu",
        "outputId": "9ca83e8a-afa5-4bac-a1ff-fcbbadf7c031"
      },
      "execution_count": 15,
      "outputs": [
        {
          "output_type": "stream",
          "name": "stdout",
          "text": [
            "Area of the rectangle: 15\n"
          ]
        }
      ]
    },
    {
      "cell_type": "markdown",
      "source": [
        "14. Create a class Employee with a method calculate_salary() that computes the salary based on hours worked\n",
        "and hourly rate. Create a derived class Manager that adds a bonus to the salary."
      ],
      "metadata": {
        "id": "ssqbCxsPF0KN"
      }
    },
    {
      "cell_type": "code",
      "source": [
        "class Employee:\n",
        "    def __init__(self, name, hours_worked, hourly_rate):\n",
        "        self.name = name\n",
        "        self.hours_worked = hours_worked\n",
        "        self.hourly_rate = hourly_rate\n",
        "\n",
        "    def calculate_salary(self):\n",
        "        return self.hours_worked * self.hourly_rate\n",
        "\n",
        "class Manager(Employee):\n",
        "    def __init__(self, name, hours_worked, hourly_rate, bonus):\n",
        "        super().__init__(name, hours_worked, hourly_rate)\n",
        "        self.bonus = bonus\n",
        "\n",
        "    def calculate_salary(self):\n",
        "        base_salary = super().calculate_salary()\n",
        "        return base_salary + self.bonus\n",
        "\n",
        "# Example usage\n",
        "emp = Employee(\"John\", 40, 20)\n",
        "mgr = Manager(\"Alice\", 40, 30, 500)\n",
        "\n",
        "print(f\"{emp.name}'s Salary: ${emp.calculate_salary()}\")\n",
        "print(f\"{mgr.name}'s Salary: ${mgr.calculate_salary()}\")\n"
      ],
      "metadata": {
        "colab": {
          "base_uri": "https://localhost:8080/"
        },
        "id": "afPO6hZXF09U",
        "outputId": "4e75c75b-210b-4bf2-bcc1-79874a16275f"
      },
      "execution_count": 16,
      "outputs": [
        {
          "output_type": "stream",
          "name": "stdout",
          "text": [
            "John's Salary: $800\n",
            "Alice's Salary: $1700\n"
          ]
        }
      ]
    },
    {
      "cell_type": "markdown",
      "source": [
        "15) 15. Create a class Product with attributes name, price, and quantity. Implement a method total_price() that\n",
        "calculates the total price of the product."
      ],
      "metadata": {
        "id": "-TMbSmRWGAWh"
      }
    },
    {
      "cell_type": "code",
      "source": [
        "class Product:\n",
        "    def __init__(self, name, price, quantity):\n",
        "        self.name = name\n",
        "        self.price = price\n",
        "        self.quantity = quantity\n",
        "\n",
        "    def total_price(self):\n",
        "        return self.price * self.quantity\n",
        "\n",
        "# Example usage\n",
        "product1 = Product(\"Laptop\", 800, 3)\n",
        "product2 = Product(\"Phone\", 500, 5)\n",
        "\n",
        "print(f\"Total price of {product1.name}: ${product1.total_price()}\")\n",
        "print(f\"Total price of {product2.name}: ${product2.total_price()}\")\n"
      ],
      "metadata": {
        "colab": {
          "base_uri": "https://localhost:8080/"
        },
        "id": "Pyi-zuoZGGaF",
        "outputId": "db2f3835-5a7d-450b-9e3f-753c4bf7a958"
      },
      "execution_count": 17,
      "outputs": [
        {
          "output_type": "stream",
          "name": "stdout",
          "text": [
            "Total price of Laptop: $2400\n",
            "Total price of Phone: $2500\n"
          ]
        }
      ]
    },
    {
      "cell_type": "markdown",
      "source": [
        "16. Create a class Animal with an abstract method sound(). Create two derived classes Cow and Sheep that\n",
        "implement the sound() method.\n",
        "\n",
        "\n"
      ],
      "metadata": {
        "id": "2kYQJaMCGSwO"
      }
    },
    {
      "cell_type": "code",
      "source": [
        "from abc import ABC, abstractmethod\n",
        "\n",
        "class Animal(ABC):\n",
        "    @abstractmethod\n",
        "    def sound(self):\n",
        "        pass\n",
        "\n",
        "class Cow(Animal):\n",
        "    def sound(self):\n",
        "        print(\"Moo!\")\n",
        "\n",
        "class Sheep(Animal):\n",
        "    def sound(self):\n",
        "        print(\"Baa!\")\n",
        "\n",
        "# Example usage\n",
        "cow = Cow()\n",
        "sheep = Sheep()\n",
        "\n",
        "cow.sound()\n",
        "sheep.sound()\n"
      ],
      "metadata": {
        "colab": {
          "base_uri": "https://localhost:8080/"
        },
        "id": "HTzfVAITGT6-",
        "outputId": "5e9ebd64-eb72-48ff-cb7c-778a48f83a62"
      },
      "execution_count": 18,
      "outputs": [
        {
          "output_type": "stream",
          "name": "stdout",
          "text": [
            "Moo!\n",
            "Baa!\n"
          ]
        }
      ]
    },
    {
      "cell_type": "markdown",
      "source": [
        "17. Create a class Book with attributes title, author, and year_published. Add a method get_book_info() that\n",
        "returns a formatted string with the book's details."
      ],
      "metadata": {
        "id": "DAfN2IlZGkSo"
      }
    },
    {
      "cell_type": "code",
      "source": [
        "class Book:\n",
        "    def __init__(self, title, author, year_published):\n",
        "        self.title = title\n",
        "        self.author = author\n",
        "        self.year_published = year_published\n",
        "\n",
        "    def get_book_info(self):\n",
        "        return f\"'{self.title}' by {self.author}, published in {self.year_published}\"\n",
        "\n",
        "book1 = Book(\"1984\", \"George Orwell\", 1949)\n",
        "book2 = Book(\"To Kill a Mockingbird\", \"Harper Lee\", 1960)\n",
        "\n",
        "print(book1.get_book_info())\n",
        "print(book2.get_book_info())\n"
      ],
      "metadata": {
        "colab": {
          "base_uri": "https://localhost:8080/"
        },
        "id": "TlVvD3cpGk9R",
        "outputId": "ceda8b0a-8a94-435e-f4bc-dd07113dffb2"
      },
      "execution_count": 19,
      "outputs": [
        {
          "output_type": "stream",
          "name": "stdout",
          "text": [
            "'1984' by George Orwell, published in 1949\n",
            "'To Kill a Mockingbird' by Harper Lee, published in 1960\n"
          ]
        }
      ]
    },
    {
      "cell_type": "markdown",
      "source": [
        "18) Create a class House with attributes address and price. Create a derived class Mansion that adds an\n",
        "attribute number_of_rooms."
      ],
      "metadata": {
        "id": "6dFTa1DDGxPX"
      }
    },
    {
      "cell_type": "code",
      "source": [
        "class House:\n",
        "    def __init__(self, address, price):\n",
        "        self.address = address\n",
        "        self.price = price\n",
        "\n",
        "    def display_info(self):\n",
        "        print(f\"Address: {self.address}\")\n",
        "        print(f\"Price: ${self.price}\")\n",
        "\n",
        "class Mansion(House):\n",
        "    def __init__(self, address, price, number_of_rooms):\n",
        "        super().__init__(address, price)\n",
        "        self.number_of_rooms = number_of_rooms\n",
        "\n",
        "    def display_info(self):\n",
        "        super().display_info()\n",
        "        print(f\"Number of Rooms: {self.number_of_rooms}\")\n",
        "\n",
        "# Example usage\n",
        "house = House(\"123 Maple St\", 250000)\n",
        "mansion = Mansion(\"456 Oak Ave\", 1500000, 10)\n",
        "\n",
        "print(\"House info:\")\n",
        "house.display_info()\n",
        "\n",
        "print(\"\\nMansion info:\")\n",
        "mansion.display_info()\n"
      ],
      "metadata": {
        "colab": {
          "base_uri": "https://localhost:8080/"
        },
        "id": "dgpuwiGIG2_e",
        "outputId": "949fcea2-a256-43d7-fb7e-e10e46cbb93d"
      },
      "execution_count": 20,
      "outputs": [
        {
          "output_type": "stream",
          "name": "stdout",
          "text": [
            "House info:\n",
            "Address: 123 Maple St\n",
            "Price: $250000\n",
            "\n",
            "Mansion info:\n",
            "Address: 456 Oak Ave\n",
            "Price: $1500000\n",
            "Number of Rooms: 10\n"
          ]
        }
      ]
    },
    {
      "cell_type": "code",
      "source": [],
      "metadata": {
        "id": "oHyRwa2IG9RT"
      },
      "execution_count": null,
      "outputs": []
    },
    {
      "cell_type": "code",
      "source": [],
      "metadata": {
        "id": "H-F4PlQ1Gveg"
      },
      "execution_count": null,
      "outputs": []
    },
    {
      "cell_type": "code",
      "source": [],
      "metadata": {
        "id": "Z8AIQ2UUGgbe"
      },
      "execution_count": null,
      "outputs": []
    },
    {
      "cell_type": "code",
      "source": [],
      "metadata": {
        "id": "242Xrl-8GPH_"
      },
      "execution_count": null,
      "outputs": []
    },
    {
      "cell_type": "code",
      "source": [],
      "metadata": {
        "id": "vuLoqe2KF9t8"
      },
      "execution_count": null,
      "outputs": []
    },
    {
      "cell_type": "code",
      "source": [],
      "metadata": {
        "id": "KZQOlYH0Fsdw"
      },
      "execution_count": null,
      "outputs": []
    },
    {
      "cell_type": "code",
      "source": [],
      "metadata": {
        "id": "UmkKn2ulFbv-"
      },
      "execution_count": null,
      "outputs": []
    },
    {
      "cell_type": "code",
      "source": [],
      "metadata": {
        "id": "SB3n_1LXFIlI"
      },
      "execution_count": null,
      "outputs": []
    },
    {
      "cell_type": "code",
      "source": [],
      "metadata": {
        "id": "y1KtbpnUE13o"
      },
      "execution_count": null,
      "outputs": []
    },
    {
      "cell_type": "code",
      "source": [],
      "metadata": {
        "id": "uMo39S7IDgW_"
      },
      "execution_count": null,
      "outputs": []
    },
    {
      "cell_type": "code",
      "source": [],
      "metadata": {
        "id": "yb72xWMtDIvI"
      },
      "execution_count": null,
      "outputs": []
    },
    {
      "cell_type": "code",
      "source": [],
      "metadata": {
        "id": "EJ5B7E-tC1Ep"
      },
      "execution_count": null,
      "outputs": []
    },
    {
      "cell_type": "code",
      "source": [],
      "metadata": {
        "id": "yFDrf2shCblU"
      },
      "execution_count": null,
      "outputs": []
    },
    {
      "cell_type": "code",
      "source": [],
      "metadata": {
        "id": "RS95GGnZCLOu"
      },
      "execution_count": null,
      "outputs": []
    },
    {
      "cell_type": "code",
      "source": [],
      "metadata": {
        "id": "Oc2izuSJBzLo"
      },
      "execution_count": null,
      "outputs": []
    },
    {
      "cell_type": "code",
      "source": [],
      "metadata": {
        "id": "TLPiBggh-QX4"
      },
      "execution_count": null,
      "outputs": []
    },
    {
      "cell_type": "code",
      "source": [],
      "metadata": {
        "id": "jrZeIizG-Azz"
      },
      "execution_count": null,
      "outputs": []
    },
    {
      "cell_type": "code",
      "source": [],
      "metadata": {
        "id": "9hNadq-y913h"
      },
      "execution_count": null,
      "outputs": []
    },
    {
      "cell_type": "code",
      "source": [],
      "metadata": {
        "id": "8wb2kr-Y8pxT"
      },
      "execution_count": null,
      "outputs": []
    },
    {
      "cell_type": "code",
      "source": [],
      "metadata": {
        "id": "6r52lJFG8kzS"
      },
      "execution_count": null,
      "outputs": []
    },
    {
      "cell_type": "code",
      "source": [],
      "metadata": {
        "id": "J_kQ1QHJ7cCb"
      },
      "execution_count": null,
      "outputs": []
    },
    {
      "cell_type": "code",
      "source": [],
      "metadata": {
        "id": "v7AObOb27Ir5"
      },
      "execution_count": null,
      "outputs": []
    },
    {
      "cell_type": "code",
      "source": [],
      "metadata": {
        "id": "4SPGxgmC5-I5"
      },
      "execution_count": null,
      "outputs": []
    },
    {
      "cell_type": "code",
      "source": [],
      "metadata": {
        "id": "0JDSfDFy5QzJ"
      },
      "execution_count": null,
      "outputs": []
    },
    {
      "cell_type": "code",
      "source": [],
      "metadata": {
        "id": "zSf1le4s48mk"
      },
      "execution_count": null,
      "outputs": []
    },
    {
      "cell_type": "code",
      "source": [],
      "metadata": {
        "id": "ZYyB4jsIxY5E"
      },
      "execution_count": null,
      "outputs": []
    },
    {
      "cell_type": "code",
      "source": [],
      "metadata": {
        "id": "FeV4WPEwxM8u"
      },
      "execution_count": null,
      "outputs": []
    },
    {
      "cell_type": "markdown",
      "source": [],
      "metadata": {
        "id": "oXKbiUHJw9B1"
      }
    },
    {
      "cell_type": "code",
      "source": [
        "1"
      ],
      "metadata": {
        "id": "Rsv2apAdw70_"
      },
      "execution_count": null,
      "outputs": []
    },
    {
      "cell_type": "code",
      "source": [],
      "metadata": {
        "id": "p8dZdfC2wtce"
      },
      "execution_count": null,
      "outputs": []
    },
    {
      "cell_type": "code",
      "source": [],
      "metadata": {
        "id": "6q3CAqFHwc9H"
      },
      "execution_count": null,
      "outputs": []
    },
    {
      "cell_type": "code",
      "source": [],
      "metadata": {
        "id": "_tSO0whROZWS"
      },
      "execution_count": null,
      "outputs": []
    },
    {
      "cell_type": "code",
      "source": [],
      "metadata": {
        "id": "SW7wuqsNMZyr"
      },
      "execution_count": null,
      "outputs": []
    },
    {
      "cell_type": "code",
      "source": [],
      "metadata": {
        "id": "Yuh25sQ9MFBv"
      },
      "execution_count": null,
      "outputs": []
    },
    {
      "cell_type": "code",
      "source": [],
      "metadata": {
        "id": "nqwV5oOoLybW"
      },
      "execution_count": null,
      "outputs": []
    },
    {
      "cell_type": "code",
      "source": [],
      "metadata": {
        "id": "iFo6JDjvLi3n"
      },
      "execution_count": null,
      "outputs": []
    },
    {
      "cell_type": "code",
      "source": [],
      "metadata": {
        "id": "RIlewIT5KqNu"
      },
      "execution_count": null,
      "outputs": []
    },
    {
      "cell_type": "code",
      "source": [],
      "metadata": {
        "id": "BgLU1P5BKWFo"
      },
      "execution_count": null,
      "outputs": []
    },
    {
      "cell_type": "code",
      "source": [],
      "metadata": {
        "id": "ivcS_Vg-J5SK"
      },
      "execution_count": null,
      "outputs": []
    },
    {
      "cell_type": "code",
      "source": [],
      "metadata": {
        "id": "IrzbvYlII0gU"
      },
      "execution_count": null,
      "outputs": []
    },
    {
      "cell_type": "code",
      "execution_count": null,
      "metadata": {
        "id": "KC0DbndbGfv8"
      },
      "outputs": [],
      "source": []
    }
  ]
}